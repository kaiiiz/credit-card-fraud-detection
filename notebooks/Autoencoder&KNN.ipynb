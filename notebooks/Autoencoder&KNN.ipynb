{
 "cells": [
  {
   "cell_type": "code",
   "execution_count": 4,
   "id": "8e482f1b-5e75-49bb-b614-1df30a1c3ca4",
   "metadata": {},
   "outputs": [],
   "source": [
    "from torch import nn\n",
    "from torch.utils.data import Dataset, DataLoader\n",
    "import torch.nn.functional as F\n",
    "import torch as T\n",
    "import numpy as np\n",
    "import pytorch_lightning as pl\n",
    "import pandas as pd\n",
    "import pickle\n",
    "from functools import reduce\n",
    "from sklearn import metrics\n",
    "from sklearn.model_selection import train_test_split\n",
    "from sklearn import preprocessing\n",
    "from sklearn.cluster import KMeans"
   ]
  },
  {
   "cell_type": "code",
   "execution_count": 5,
   "id": "d1b1abaa-f705-4a2e-adf5-476506bdd029",
   "metadata": {},
   "outputs": [
    {
     "data": {
      "text/plain": [
       "{'scaler': StandardScaler(),\n",
       " 'les': {'ecfg': LabelEncoder(),\n",
       "  'flbmk': LabelEncoder(),\n",
       "  'flg_3dsmk': LabelEncoder(),\n",
       "  'insfg': LabelEncoder(),\n",
       "  'ovrlt': LabelEncoder()},\n",
       " 'mms': MinMaxScaler()}"
      ]
     },
     "execution_count": 5,
     "metadata": {},
     "output_type": "execute_result"
    }
   ],
   "source": [
    "with open(\"../preprocessor.pkt\", \"rb\") as f:\n",
    "    preprocessor = pickle.load(f)\n",
    "preprocessor"
   ]
  },
  {
   "cell_type": "code",
   "execution_count": 6,
   "id": "981f80c3-f791-41cc-b0cd-87c93a2c1ca3",
   "metadata": {},
   "outputs": [],
   "source": [
    "# raw_data = pd.read_csv(\"../data/preprocess_train.csv\")\n",
    "# raw_data = raw_data.drop(\"txkey\", 1)\n",
    "# raw_data = raw_data.drop(\"oversea_flag_0\", 1)\n",
    "# raw_data = raw_data.drop(\"oversea_flag_1\", 1)\n",
    "# raw_data = raw_data.drop(\"most_freq\", 1)"
   ]
  },
  {
   "cell_type": "code",
   "execution_count": 7,
   "id": "e348a181-7625-43f5-b6f1-3c267635df96",
   "metadata": {},
   "outputs": [],
   "source": [
    "data = pd.read_csv(\"../data/train_norm.csv\")\n",
    "data = data.drop(\"Unnamed: 0\", 1)\n",
    "x_train, x_val, y_train, y_val = train_test_split(data.drop(\"fraud_ind\", 1), data[\"fraud_ind\"], test_size=0.15, random_state=0)"
   ]
  },
  {
   "cell_type": "code",
   "execution_count": 8,
   "id": "0537e2f2-89bd-4843-a938-4a2918b8f181",
   "metadata": {},
   "outputs": [],
   "source": [
    "raw_test_data = pd.read_csv(\"../data/test.csv\")"
   ]
  },
  {
   "cell_type": "code",
   "execution_count": 9,
   "id": "9caa7cd9-2e4c-4df9-885e-6e0f64fa1570",
   "metadata": {},
   "outputs": [],
   "source": [
    "def preprocess_test_data(raw_test_data):\n",
    "    labels = raw_test_data[\"fraud_ind\"]\n",
    "    df = raw_test_data.drop([\"fraud_ind\", \"txkey\"], 1)\n",
    "    df = df.fillna(\"NA\")\n",
    "    \n",
    "    for c in df.keys():\n",
    "        if not (df[c].dtype == np.int64 or df[c].dtype == np.float64):\n",
    "            df.loc[:,c] = preprocessor['les'][c].transform(df.loc[:,c])\n",
    "    \n",
    "    x = preprocessor['scaler'].transform(df)\n",
    "    df = pd.DataFrame(data=x, index=df.index, columns=df.columns)\n",
    "    df = pd.DataFrame(preprocessor['mms'].transform(df.values), index=df.index, columns=df.columns)\n",
    "    \n",
    "    df[\"fraud_ind\"] = labels\n",
    "    \n",
    "    return df\n",
    "\n",
    "test_data = preprocess_test_data(raw_test_data)\n",
    "x_test, y_test = test_data.drop(\"fraud_ind\", 1), test_data['fraud_ind']"
   ]
  },
  {
   "cell_type": "code",
   "execution_count": 17,
   "id": "4ab52f23-da5b-4e91-b7ad-2249af791061",
   "metadata": {},
   "outputs": [
    {
     "data": {
      "text/html": [
       "<div>\n",
       "<style scoped>\n",
       "    .dataframe tbody tr th:only-of-type {\n",
       "        vertical-align: middle;\n",
       "    }\n",
       "\n",
       "    .dataframe tbody tr th {\n",
       "        vertical-align: top;\n",
       "    }\n",
       "\n",
       "    .dataframe thead th {\n",
       "        text-align: right;\n",
       "    }\n",
       "</style>\n",
       "<table border=\"1\" class=\"dataframe\">\n",
       "  <thead>\n",
       "    <tr style=\"text-align: right;\">\n",
       "      <th></th>\n",
       "      <th>acqic</th>\n",
       "      <th>bacno</th>\n",
       "      <th>cano</th>\n",
       "      <th>conam</th>\n",
       "      <th>contp</th>\n",
       "      <th>csmcu</th>\n",
       "      <th>ecfg</th>\n",
       "      <th>etymd</th>\n",
       "      <th>flbmk</th>\n",
       "      <th>flg_3dsmk</th>\n",
       "      <th>...</th>\n",
       "      <th>insfg</th>\n",
       "      <th>iterm</th>\n",
       "      <th>locdt</th>\n",
       "      <th>loctm</th>\n",
       "      <th>mcc</th>\n",
       "      <th>mchno</th>\n",
       "      <th>ovrlt</th>\n",
       "      <th>scity</th>\n",
       "      <th>stocn</th>\n",
       "      <th>stscd</th>\n",
       "    </tr>\n",
       "  </thead>\n",
       "  <tbody>\n",
       "    <tr>\n",
       "      <th>938646</th>\n",
       "      <td>0.876235</td>\n",
       "      <td>0.646040</td>\n",
       "      <td>0.152137</td>\n",
       "      <td>0.090812</td>\n",
       "      <td>0.833333</td>\n",
       "      <td>0.826667</td>\n",
       "      <td>1.0</td>\n",
       "      <td>0.2</td>\n",
       "      <td>0.0</td>\n",
       "      <td>0.0</td>\n",
       "      <td>...</td>\n",
       "      <td>0.0</td>\n",
       "      <td>0.0</td>\n",
       "      <td>0.213483</td>\n",
       "      <td>0.912108</td>\n",
       "      <td>0.538126</td>\n",
       "      <td>0.760229</td>\n",
       "      <td>0.0</td>\n",
       "      <td>0.871983</td>\n",
       "      <td>0.953271</td>\n",
       "      <td>0.0</td>\n",
       "    </tr>\n",
       "    <tr>\n",
       "      <th>659914</th>\n",
       "      <td>0.999564</td>\n",
       "      <td>0.186682</td>\n",
       "      <td>0.005545</td>\n",
       "      <td>0.071274</td>\n",
       "      <td>0.833333</td>\n",
       "      <td>0.000000</td>\n",
       "      <td>0.0</td>\n",
       "      <td>0.0</td>\n",
       "      <td>0.0</td>\n",
       "      <td>0.0</td>\n",
       "      <td>...</td>\n",
       "      <td>0.0</td>\n",
       "      <td>0.0</td>\n",
       "      <td>0.808989</td>\n",
       "      <td>0.771435</td>\n",
       "      <td>0.995643</td>\n",
       "      <td>0.574337</td>\n",
       "      <td>0.0</td>\n",
       "      <td>0.000000</td>\n",
       "      <td>0.953271</td>\n",
       "      <td>0.0</td>\n",
       "    </tr>\n",
       "    <tr>\n",
       "      <th>777518</th>\n",
       "      <td>0.975596</td>\n",
       "      <td>0.653619</td>\n",
       "      <td>0.855775</td>\n",
       "      <td>0.056580</td>\n",
       "      <td>0.833333</td>\n",
       "      <td>0.826667</td>\n",
       "      <td>0.0</td>\n",
       "      <td>0.5</td>\n",
       "      <td>0.0</td>\n",
       "      <td>0.0</td>\n",
       "      <td>...</td>\n",
       "      <td>0.0</td>\n",
       "      <td>0.0</td>\n",
       "      <td>0.550562</td>\n",
       "      <td>0.807128</td>\n",
       "      <td>0.612200</td>\n",
       "      <td>0.350954</td>\n",
       "      <td>0.0</td>\n",
       "      <td>0.872433</td>\n",
       "      <td>0.953271</td>\n",
       "      <td>0.0</td>\n",
       "    </tr>\n",
       "    <tr>\n",
       "      <th>139433</th>\n",
       "      <td>0.983295</td>\n",
       "      <td>0.473435</td>\n",
       "      <td>0.667760</td>\n",
       "      <td>0.133905</td>\n",
       "      <td>0.833333</td>\n",
       "      <td>0.826667</td>\n",
       "      <td>0.0</td>\n",
       "      <td>0.4</td>\n",
       "      <td>0.0</td>\n",
       "      <td>0.0</td>\n",
       "      <td>...</td>\n",
       "      <td>0.0</td>\n",
       "      <td>0.0</td>\n",
       "      <td>0.550562</td>\n",
       "      <td>0.871351</td>\n",
       "      <td>0.590414</td>\n",
       "      <td>0.795561</td>\n",
       "      <td>0.0</td>\n",
       "      <td>0.636636</td>\n",
       "      <td>0.953271</td>\n",
       "      <td>0.0</td>\n",
       "    </tr>\n",
       "    <tr>\n",
       "      <th>642191</th>\n",
       "      <td>0.905142</td>\n",
       "      <td>0.093085</td>\n",
       "      <td>0.314155</td>\n",
       "      <td>0.054195</td>\n",
       "      <td>0.833333</td>\n",
       "      <td>0.826667</td>\n",
       "      <td>0.0</td>\n",
       "      <td>0.5</td>\n",
       "      <td>0.0</td>\n",
       "      <td>0.0</td>\n",
       "      <td>...</td>\n",
       "      <td>0.0</td>\n",
       "      <td>0.0</td>\n",
       "      <td>0.404494</td>\n",
       "      <td>0.601977</td>\n",
       "      <td>0.546841</td>\n",
       "      <td>0.188767</td>\n",
       "      <td>0.0</td>\n",
       "      <td>0.871983</td>\n",
       "      <td>0.953271</td>\n",
       "      <td>0.0</td>\n",
       "    </tr>\n",
       "    <tr>\n",
       "      <th>...</th>\n",
       "      <td>...</td>\n",
       "      <td>...</td>\n",
       "      <td>...</td>\n",
       "      <td>...</td>\n",
       "      <td>...</td>\n",
       "      <td>...</td>\n",
       "      <td>...</td>\n",
       "      <td>...</td>\n",
       "      <td>...</td>\n",
       "      <td>...</td>\n",
       "      <td>...</td>\n",
       "      <td>...</td>\n",
       "      <td>...</td>\n",
       "      <td>...</td>\n",
       "      <td>...</td>\n",
       "      <td>...</td>\n",
       "      <td>...</td>\n",
       "      <td>...</td>\n",
       "      <td>...</td>\n",
       "      <td>...</td>\n",
       "      <td>...</td>\n",
       "    </tr>\n",
       "    <tr>\n",
       "      <th>359783</th>\n",
       "      <td>0.876235</td>\n",
       "      <td>0.923073</td>\n",
       "      <td>0.515661</td>\n",
       "      <td>0.063263</td>\n",
       "      <td>0.833333</td>\n",
       "      <td>0.826667</td>\n",
       "      <td>0.0</td>\n",
       "      <td>0.4</td>\n",
       "      <td>0.0</td>\n",
       "      <td>0.0</td>\n",
       "      <td>...</td>\n",
       "      <td>0.0</td>\n",
       "      <td>0.0</td>\n",
       "      <td>0.325843</td>\n",
       "      <td>0.609169</td>\n",
       "      <td>0.653595</td>\n",
       "      <td>0.788766</td>\n",
       "      <td>0.0</td>\n",
       "      <td>0.537850</td>\n",
       "      <td>0.953271</td>\n",
       "      <td>0.0</td>\n",
       "    </tr>\n",
       "    <tr>\n",
       "      <th>152315</th>\n",
       "      <td>0.999564</td>\n",
       "      <td>0.254383</td>\n",
       "      <td>0.983913</td>\n",
       "      <td>0.071274</td>\n",
       "      <td>0.833333</td>\n",
       "      <td>0.000000</td>\n",
       "      <td>0.0</td>\n",
       "      <td>0.0</td>\n",
       "      <td>0.0</td>\n",
       "      <td>0.0</td>\n",
       "      <td>...</td>\n",
       "      <td>0.0</td>\n",
       "      <td>0.0</td>\n",
       "      <td>0.134831</td>\n",
       "      <td>0.490094</td>\n",
       "      <td>0.995643</td>\n",
       "      <td>0.575247</td>\n",
       "      <td>1.0</td>\n",
       "      <td>0.000000</td>\n",
       "      <td>0.953271</td>\n",
       "      <td>0.0</td>\n",
       "    </tr>\n",
       "    <tr>\n",
       "      <th>963395</th>\n",
       "      <td>0.905142</td>\n",
       "      <td>0.032590</td>\n",
       "      <td>0.460077</td>\n",
       "      <td>0.059160</td>\n",
       "      <td>0.833333</td>\n",
       "      <td>0.826667</td>\n",
       "      <td>0.0</td>\n",
       "      <td>0.5</td>\n",
       "      <td>0.0</td>\n",
       "      <td>0.0</td>\n",
       "      <td>...</td>\n",
       "      <td>0.0</td>\n",
       "      <td>0.0</td>\n",
       "      <td>0.033708</td>\n",
       "      <td>0.858378</td>\n",
       "      <td>0.636166</td>\n",
       "      <td>0.128036</td>\n",
       "      <td>0.0</td>\n",
       "      <td>0.871983</td>\n",
       "      <td>0.953271</td>\n",
       "      <td>0.0</td>\n",
       "    </tr>\n",
       "    <tr>\n",
       "      <th>117952</th>\n",
       "      <td>0.823068</td>\n",
       "      <td>0.628302</td>\n",
       "      <td>0.343269</td>\n",
       "      <td>0.106712</td>\n",
       "      <td>0.833333</td>\n",
       "      <td>0.826667</td>\n",
       "      <td>0.0</td>\n",
       "      <td>0.2</td>\n",
       "      <td>0.0</td>\n",
       "      <td>0.0</td>\n",
       "      <td>...</td>\n",
       "      <td>0.0</td>\n",
       "      <td>0.0</td>\n",
       "      <td>0.977528</td>\n",
       "      <td>0.684530</td>\n",
       "      <td>0.747277</td>\n",
       "      <td>0.522249</td>\n",
       "      <td>0.0</td>\n",
       "      <td>0.871983</td>\n",
       "      <td>0.953271</td>\n",
       "      <td>0.0</td>\n",
       "    </tr>\n",
       "    <tr>\n",
       "      <th>305711</th>\n",
       "      <td>0.999564</td>\n",
       "      <td>0.030949</td>\n",
       "      <td>0.744443</td>\n",
       "      <td>0.071274</td>\n",
       "      <td>0.833333</td>\n",
       "      <td>0.000000</td>\n",
       "      <td>0.0</td>\n",
       "      <td>0.0</td>\n",
       "      <td>0.0</td>\n",
       "      <td>0.0</td>\n",
       "      <td>...</td>\n",
       "      <td>0.0</td>\n",
       "      <td>0.0</td>\n",
       "      <td>0.977528</td>\n",
       "      <td>0.775385</td>\n",
       "      <td>0.995643</td>\n",
       "      <td>0.838123</td>\n",
       "      <td>0.0</td>\n",
       "      <td>0.000000</td>\n",
       "      <td>0.953271</td>\n",
       "      <td>0.0</td>\n",
       "    </tr>\n",
       "  </tbody>\n",
       "</table>\n",
       "<p>965782 rows × 21 columns</p>\n",
       "</div>"
      ],
      "text/plain": [
       "           acqic     bacno      cano     conam     contp     csmcu  ecfg  \\\n",
       "938646  0.876235  0.646040  0.152137  0.090812  0.833333  0.826667   1.0   \n",
       "659914  0.999564  0.186682  0.005545  0.071274  0.833333  0.000000   0.0   \n",
       "777518  0.975596  0.653619  0.855775  0.056580  0.833333  0.826667   0.0   \n",
       "139433  0.983295  0.473435  0.667760  0.133905  0.833333  0.826667   0.0   \n",
       "642191  0.905142  0.093085  0.314155  0.054195  0.833333  0.826667   0.0   \n",
       "...          ...       ...       ...       ...       ...       ...   ...   \n",
       "359783  0.876235  0.923073  0.515661  0.063263  0.833333  0.826667   0.0   \n",
       "152315  0.999564  0.254383  0.983913  0.071274  0.833333  0.000000   0.0   \n",
       "963395  0.905142  0.032590  0.460077  0.059160  0.833333  0.826667   0.0   \n",
       "117952  0.823068  0.628302  0.343269  0.106712  0.833333  0.826667   0.0   \n",
       "305711  0.999564  0.030949  0.744443  0.071274  0.833333  0.000000   0.0   \n",
       "\n",
       "        etymd  flbmk  flg_3dsmk  ...  insfg  iterm     locdt     loctm  \\\n",
       "938646    0.2    0.0        0.0  ...    0.0    0.0  0.213483  0.912108   \n",
       "659914    0.0    0.0        0.0  ...    0.0    0.0  0.808989  0.771435   \n",
       "777518    0.5    0.0        0.0  ...    0.0    0.0  0.550562  0.807128   \n",
       "139433    0.4    0.0        0.0  ...    0.0    0.0  0.550562  0.871351   \n",
       "642191    0.5    0.0        0.0  ...    0.0    0.0  0.404494  0.601977   \n",
       "...       ...    ...        ...  ...    ...    ...       ...       ...   \n",
       "359783    0.4    0.0        0.0  ...    0.0    0.0  0.325843  0.609169   \n",
       "152315    0.0    0.0        0.0  ...    0.0    0.0  0.134831  0.490094   \n",
       "963395    0.5    0.0        0.0  ...    0.0    0.0  0.033708  0.858378   \n",
       "117952    0.2    0.0        0.0  ...    0.0    0.0  0.977528  0.684530   \n",
       "305711    0.0    0.0        0.0  ...    0.0    0.0  0.977528  0.775385   \n",
       "\n",
       "             mcc     mchno  ovrlt     scity     stocn  stscd  \n",
       "938646  0.538126  0.760229    0.0  0.871983  0.953271    0.0  \n",
       "659914  0.995643  0.574337    0.0  0.000000  0.953271    0.0  \n",
       "777518  0.612200  0.350954    0.0  0.872433  0.953271    0.0  \n",
       "139433  0.590414  0.795561    0.0  0.636636  0.953271    0.0  \n",
       "642191  0.546841  0.188767    0.0  0.871983  0.953271    0.0  \n",
       "...          ...       ...    ...       ...       ...    ...  \n",
       "359783  0.653595  0.788766    0.0  0.537850  0.953271    0.0  \n",
       "152315  0.995643  0.575247    1.0  0.000000  0.953271    0.0  \n",
       "963395  0.636166  0.128036    0.0  0.871983  0.953271    0.0  \n",
       "117952  0.747277  0.522249    0.0  0.871983  0.953271    0.0  \n",
       "305711  0.995643  0.838123    0.0  0.000000  0.953271    0.0  \n",
       "\n",
       "[965782 rows x 21 columns]"
      ]
     },
     "execution_count": 17,
     "metadata": {},
     "output_type": "execute_result"
    }
   ],
   "source": [
    "x_train"
   ]
  },
  {
   "cell_type": "code",
   "execution_count": 10,
   "id": "5e53a034-bbc1-498a-b570-7ed83a20eb56",
   "metadata": {},
   "outputs": [
    {
     "data": {
      "text/plain": [
       "0    0.440190\n",
       "1    0.007791\n",
       "Name: fraud_ind, dtype: float64"
      ]
     },
     "execution_count": 10,
     "metadata": {},
     "output_type": "execute_result"
    }
   ],
   "source": [
    "y_val.value_counts()/y_test.count()"
   ]
  },
  {
   "cell_type": "code",
   "execution_count": 11,
   "id": "9763c9c6-05b4-4981-bcd4-2e9af0c70a25",
   "metadata": {},
   "outputs": [
    {
     "data": {
      "text/plain": [
       "0    0.981993\n",
       "1    0.018007\n",
       "Name: fraud_ind, dtype: float64"
      ]
     },
     "execution_count": 11,
     "metadata": {},
     "output_type": "execute_result"
    }
   ],
   "source": [
    "y_train.value_counts()/y_train.count()"
   ]
  },
  {
   "cell_type": "code",
   "execution_count": 12,
   "id": "64eef394-e6ab-4b41-b483-2dfb248b373d",
   "metadata": {},
   "outputs": [
    {
     "data": {
      "text/plain": [
       "0    0.986668\n",
       "1    0.013332\n",
       "Name: fraud_ind, dtype: float64"
      ]
     },
     "execution_count": 12,
     "metadata": {},
     "output_type": "execute_result"
    }
   ],
   "source": [
    "y_test.value_counts()/y_test.count()"
   ]
  },
  {
   "cell_type": "markdown",
   "id": "8cfab69e-addd-49bc-840b-eeba68a97fb5",
   "metadata": {},
   "source": [
    "# Autoencoder & KNN"
   ]
  },
  {
   "cell_type": "code",
   "execution_count": 13,
   "id": "4cc7b6e9-90d6-43dd-8aeb-5400330abd3b",
   "metadata": {},
   "outputs": [],
   "source": [
    "class MyDataset(Dataset):\n",
    "    def __init__(self, df, labels):\n",
    "        self.data = df.values.astype(np.float32)\n",
    "        self.labels = labels\n",
    "        \n",
    "    def __len__(self):\n",
    "        return len(self.data)\n",
    "    \n",
    "    def __getitem__(self, idx):\n",
    "        return T.tensor(self.data[idx]), self.labels[idx]"
   ]
  },
  {
   "cell_type": "code",
   "execution_count": 14,
   "id": "0780a6f0-57bb-4af5-a10d-ffb27c2040e5",
   "metadata": {},
   "outputs": [],
   "source": [
    "class Model(pl.LightningModule):\n",
    "    def __init__(self, dim, x_train, y_train, x_val, y_val, K=3):\n",
    "        super(Model, self).__init__()\n",
    "        self.encoder = nn.Sequential(\n",
    "            nn.Linear(dim, 18),\n",
    "            nn.Tanh(),\n",
    "            nn.Linear(18, 14),\n",
    "            nn.Tanh(),\n",
    "        )\n",
    "        self.decoder = nn.Sequential(\n",
    "            nn.Linear(14, 18),\n",
    "            nn.Tanh(),\n",
    "            nn.Linear(18, dim),\n",
    "            nn.Sigmoid(),\n",
    "        )\n",
    "        self.K = K\n",
    "        self.x_train = x_train\n",
    "        self.y_train = T.tensor(y_train.values)\n",
    "        self.x_val = x_val\n",
    "        self.y_val = T.tensor(y_val.values)\n",
    "        self.x_train_embedded = None\n",
    "\n",
    "    def forward(self, x):\n",
    "        z = self.encoder(x)\n",
    "        z = self.decoder(z)\n",
    "        return z\n",
    "    \n",
    "    def train_dataloader(self):\n",
    "        return DataLoader(MyDataset(self.x_train, self.y_train), batch_size=train_batch_size, shuffle=False, pin_memory=True, num_workers=8)\n",
    "    \n",
    "    def val_dataloader(self):\n",
    "        return DataLoader(MyDataset(self.x_val, self.y_val), batch_size=val_batch_size, shuffle=False, pin_memory=True, num_workers=8)\n",
    "    \n",
    "    def training_step(self, batch, batch_idx):\n",
    "        data, labels = batch\n",
    "        loss = F.mse_loss(self(data), data)\n",
    "        return loss\n",
    "    \n",
    "    def on_train_end(self):\n",
    "        self._update_embedding()\n",
    "    \n",
    "    def on_validation_epoch_start(self):\n",
    "        self._update_embedding()\n",
    "    \n",
    "    def validation_step(self, batch, batch_idx):\n",
    "        data, labels = batch\n",
    "        return {\n",
    "            \"preds\": self._KNN(self.encoder(data)),\n",
    "            \"labels\": labels,\n",
    "        }\n",
    "\n",
    "    def validation_epoch_end(self, outputs):\n",
    "        preds = np.array(reduce(lambda a, b : a + b[\"preds\"].cpu().detach().tolist(), outputs, []))\n",
    "        labels = np.array(reduce(lambda a, b : a + b[\"labels\"].cpu().detach().tolist(), outputs, []))\n",
    "        ((TN, FP), (FN, TP)) = metrics.confusion_matrix(labels, preds, labels=[0, 1])\n",
    "        \n",
    "        logging_metrics = {\n",
    "            \"precision\": 0,\n",
    "            \"recall\": 0,\n",
    "            \"f_score\": 0,\n",
    "        }\n",
    "\n",
    "        if (TP + FP) != 0 and (TP + FN) != 0:\n",
    "            precision = TP / (TP + FP)\n",
    "            recall = TP / (TP + FN)\n",
    "            f_score = 2 * (precision * recall) / (precision + recall)\n",
    "            logging_metrics[\"precision\"] = precision\n",
    "            logging_metrics[\"recall\"] = recall\n",
    "            logging_metrics[\"f_score\"] = f_score\n",
    "        \n",
    "        self.log_dict(logging_metrics, prog_bar=True)\n",
    "        \n",
    "    def _update_embedding(self):\n",
    "        x_train_embedded = []\n",
    "        for batch, labels in self.train_dataloader():\n",
    "            x_train_embedded.append(self.encoder(batch.cuda()))\n",
    "        self.x_train_embedded = T.cat(x_train_embedded)\n",
    "    \n",
    "    def _euclidean_distances(self, x_train, x_test):\n",
    "        return T.linalg.norm(x_train - x_test.unsqueeze(1), dim=2)\n",
    "\n",
    "    def _KNN(self, x_test):\n",
    "        distance = self._euclidean_distances(self.x_train_embedded, x_test)\n",
    "        top_k_xvals, top_k_indices = T.topk(T.neg(distance), self.K)\n",
    "        prediction_indices = self.y_train[top_k_indices]\n",
    "        prediction = T.mode(prediction_indices)\n",
    "        return prediction.values\n",
    "\n",
    "    def configure_optimizers(self):\n",
    "        optimizer = T.optim.Adam(self.parameters(), lr=1e-2)\n",
    "        return {\n",
    "            'optimizer': optimizer,\n",
    "            'lr_scheduler': {\n",
    "                'scheduler': T.optim.lr_scheduler.MultiStepLR(optimizer, milestones=[x for x in range(0, num_train_epochs, 30)], gamma=0.1),\n",
    "                'interval': 'epoch'\n",
    "            }\n",
    "        }\n",
    "\n",
    "model = Model(x_train.shape[1], x_train, y_train, x_val, y_val, K=5)"
   ]
  },
  {
   "cell_type": "code",
   "execution_count": 15,
   "id": "92978eb8-f5bf-4fa2-8c09-876bf836fc86",
   "metadata": {},
   "outputs": [
    {
     "name": "stderr",
     "output_type": "stream",
     "text": [
      "GPU available: True, used: True\n",
      "TPU available: None, using: 0 TPU cores\n",
      "\n",
      "  | Name    | Type       | Params\n",
      "---------------------------------------\n",
      "0 | encoder | Sequential | 662   \n",
      "1 | decoder | Sequential | 669   \n",
      "---------------------------------------\n",
      "1.3 K     Trainable params\n",
      "0         Non-trainable params\n",
      "1.3 K     Total params\n",
      "0.005     Total estimated model params size (MB)\n"
     ]
    },
    {
     "data": {
      "application/vnd.jupyter.widget-view+json": {
       "model_id": "61559ea909124937ba91de11e050a35a",
       "version_major": 2,
       "version_minor": 0
      },
      "text/plain": [
       "Validation sanity check: 0it [00:00, ?it/s]"
      ]
     },
     "metadata": {},
     "output_type": "display_data"
    },
    {
     "data": {
      "application/vnd.jupyter.widget-view+json": {
       "model_id": "99969b18b1364e52a9db32c28a690791",
       "version_major": 2,
       "version_minor": 0
      },
      "text/plain": [
       "Training: 0it [00:00, ?it/s]"
      ]
     },
     "metadata": {},
     "output_type": "display_data"
    },
    {
     "data": {
      "application/vnd.jupyter.widget-view+json": {
       "model_id": "",
       "version_major": 2,
       "version_minor": 0
      },
      "text/plain": [
       "Validating: 0it [00:00, ?it/s]"
      ]
     },
     "metadata": {},
     "output_type": "display_data"
    },
    {
     "data": {
      "application/vnd.jupyter.widget-view+json": {
       "model_id": "",
       "version_major": 2,
       "version_minor": 0
      },
      "text/plain": [
       "Validating: 0it [00:00, ?it/s]"
      ]
     },
     "metadata": {},
     "output_type": "display_data"
    },
    {
     "data": {
      "application/vnd.jupyter.widget-view+json": {
       "model_id": "",
       "version_major": 2,
       "version_minor": 0
      },
      "text/plain": [
       "Validating: 0it [00:00, ?it/s]"
      ]
     },
     "metadata": {},
     "output_type": "display_data"
    },
    {
     "data": {
      "application/vnd.jupyter.widget-view+json": {
       "model_id": "",
       "version_major": 2,
       "version_minor": 0
      },
      "text/plain": [
       "Validating: 0it [00:00, ?it/s]"
      ]
     },
     "metadata": {},
     "output_type": "display_data"
    },
    {
     "data": {
      "application/vnd.jupyter.widget-view+json": {
       "model_id": "",
       "version_major": 2,
       "version_minor": 0
      },
      "text/plain": [
       "Validating: 0it [00:00, ?it/s]"
      ]
     },
     "metadata": {},
     "output_type": "display_data"
    },
    {
     "data": {
      "text/plain": [
       "1"
      ]
     },
     "execution_count": 15,
     "metadata": {},
     "output_type": "execute_result"
    }
   ],
   "source": [
    "train_batch_size = 2048\n",
    "val_batch_size = 64\n",
    "num_train_epochs = 100\n",
    "check_val_every_n_epoch = 20\n",
    "\n",
    "class ValProgressBar(pl.callbacks.progress.ProgressBar):\n",
    "    def on_validation_start(self, trainer, pl_module):\n",
    "        super().on_validation_start(trainer, pl_module)\n",
    "        self.val_progress_bar.reset(total=len(trainer.val_dataloaders[0]))\n",
    "    \n",
    "trainer = pl.Trainer(\n",
    "    gpus=1,\n",
    "    max_epochs=num_train_epochs,\n",
    "    check_val_every_n_epoch=check_val_every_n_epoch,\n",
    "    callbacks=[ValProgressBar()]\n",
    ")\n",
    "trainer.fit(model)"
   ]
  },
  {
   "cell_type": "code",
   "execution_count": 48,
   "id": "45cd1d17-9771-4afb-87f9-a6532e52b526",
   "metadata": {},
   "outputs": [],
   "source": [
    "test_dataloader = DataLoader(MyDataset(x_test, T.tensor(y_test.values)), batch_size=val_batch_size, shuffle=False, pin_memory=True, num_workers=16)"
   ]
  },
  {
   "cell_type": "code",
   "execution_count": 25,
   "id": "f0334677-2b74-4146-9335-bbbd9180aca7",
   "metadata": {},
   "outputs": [
    {
     "data": {
      "application/vnd.jupyter.widget-view+json": {
       "model_id": "2964d1b64119471790df313180bdfe04",
       "version_major": 2,
       "version_minor": 0
      },
      "text/plain": [
       "  0%|          | 0/5945 [00:00<?, ?it/s]"
      ]
     },
     "metadata": {},
     "output_type": "display_data"
    }
   ],
   "source": [
    "from tqdm.notebook import tqdm\n",
    "\n",
    "preds = []\n",
    "labels = []\n",
    "\n",
    "model = model.cuda()\n",
    "for x, y in tqdm(test_dataloader):\n",
    "    x = x.cuda()\n",
    "    \n",
    "    preds.append(model._KNN(model.encoder(x)))\n",
    "    labels.append(y)"
   ]
  },
  {
   "cell_type": "code",
   "execution_count": 32,
   "id": "2c477810-b6a9-43e8-bee7-663ec65ee832",
   "metadata": {},
   "outputs": [],
   "source": [
    "preds = T.cat(preds)\n",
    "labels = T.cat(labels)"
   ]
  },
  {
   "cell_type": "code",
   "execution_count": 37,
   "id": "0e578802-030a-47e6-a6ec-f51a9515e20b",
   "metadata": {},
   "outputs": [
    {
     "name": "stdout",
     "output_type": "stream",
     "text": [
      "precision: 0.6632950787784477\n",
      "recall: 0.6723186119873817\n",
      "f_score: 0.6677763634583375\n"
     ]
    }
   ],
   "source": [
    "((TN, FP), (FN, TP)) = metrics.confusion_matrix(labels, preds, labels=[0, 1])\n",
    "\n",
    "precision = TP / (TP + FP)\n",
    "recall = TP / (TP + FN)\n",
    "f_score = 2 * (precision * recall) / (precision + recall)\n",
    "print(f\"precision: {precision}\\nrecall: {recall}\\nf_score: {f_score}\")"
   ]
  }
 ],
 "metadata": {
  "kernelspec": {
   "display_name": "Python 3",
   "language": "python",
   "name": "python3"
  },
  "language_info": {
   "codemirror_mode": {
    "name": "ipython",
    "version": 3
   },
   "file_extension": ".py",
   "mimetype": "text/x-python",
   "name": "python",
   "nbconvert_exporter": "python",
   "pygments_lexer": "ipython3",
   "version": "3.8.5"
  }
 },
 "nbformat": 4,
 "nbformat_minor": 5
}
